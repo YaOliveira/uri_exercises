{
  "nbformat": 4,
  "nbformat_minor": 0,
  "metadata": {
    "colab": {
      "name": "URI_Exercises.ipynb",
      "provenance": [],
      "collapsed_sections": [],
      "include_colab_link": true
    },
    "kernelspec": {
      "name": "python3",
      "display_name": "Python 3"
    }
  },
  "cells": [
    {
      "cell_type": "markdown",
      "metadata": {
        "id": "view-in-github",
        "colab_type": "text"
      },
      "source": [
        "<a href=\"https://colab.research.google.com/github/YaOliveira/uri_exercises/blob/main/URI_Exercises.ipynb\" target=\"_parent\"><img src=\"https://colab.research.google.com/assets/colab-badge.svg\" alt=\"Open In Colab\"/></a>"
      ]
    },
    {
      "cell_type": "markdown",
      "metadata": {
        "id": "4H4DPXQl3X75"
      },
      "source": [
        "(I) uma string com um dia da semana ('domingo', 'segunda', 'terca', 'quarta', 'quinta', 'sexta' ou 'sabado'),sem acentuação, que indica o dia que um cliente realizou a compra no site da empresa; "
      ]
    },
    {
      "cell_type": "markdown",
      "metadata": {
        "id": "6u55tnzi3cAx"
      },
      "source": [
        "(II) um número natural que pode variar de 0 a 6, que indica a quantidade de dias, a partir da realização da compra, que o cliente deverá aguardar para receber a mercadoria."
      ]
    },
    {
      "cell_type": "markdown",
      "metadata": {
        "id": "WE0c-MxM3tbF"
      },
      "source": [
        " um prazo de zero dias significa que a entrega será feita no mesmo dia,"
      ]
    },
    {
      "cell_type": "markdown",
      "metadata": {
        "id": "4H2OTeKO3zFa"
      },
      "source": [
        "Por exemplo, se a compra foi realizada no 'sabado' e o prazo é de três dias, o cliente receberá na 'terca'. Cuidado com a acentuação, repare que ela não está presente nas entradas e nem nas saídas, nem mesmo o 'ç' de terça."
      ]
    },
    {
      "cell_type": "code",
      "metadata": {
        "colab": {
          "base_uri": "https://localhost:8080/"
        },
        "id": "uodhACi93ycI",
        "outputId": "f20f4019-3b1b-4edb-8300-842d4bc01934"
      },
      "source": [
        "# Entradas: 2 linhas \n",
        "# dia_da_semana = input()\n",
        "# dia_q_chegara = input()\n",
        "\n",
        "dias_da_semana = ['domingo', 'segunda', 'terca', 'quarta', 'quinta', 'sexta', 'sabado']\n",
        "# semana_value = dias_da_semana[dias_da_semana.index(dia_da_semana)]\n",
        "\n",
        "\n",
        "\n",
        "a = input()\n",
        "b = int(input())\n",
        "semana = ['domingo', 'segunda', 'terca', 'quarta', 'quinta', 'sexta', 'sabado']\n",
        "dia_da_semana = semana[semana.index(a)]\n",
        "\n",
        "if(b == 0):\n",
        "  print(\"chega hoje!\")\n",
        "elif ((b + semana.index(a)) >=6):\n",
        "      b = (b + semana.index(a)) -7\n",
        "      print(f\"sera entregue {semana[b]}\")\n",
        "else:\n",
        "  print(f\"sera entregue {semana[semana.index(dia_da_semana) + b]}\")"
      ],
      "execution_count": null,
      "outputs": [
        {
          "output_type": "stream",
          "text": [
            "domingo\n",
            "6\n",
            "sera entregue sabado\n"
          ],
          "name": "stdout"
        }
      ]
    },
    {
      "cell_type": "code",
      "metadata": {
        "id": "KUCChv11ekwW",
        "colab": {
          "base_uri": "https://localhost:8080/",
          "height": 69
        },
        "outputId": "75469281-cef8-4965-b9ba-1ce962dd1b40"
      },
      "source": [
        "dia_da_semana = input()\n",
        "dia_q_chegara = int(input())\n",
        "semana = ['domingo', 'segunda', 'terca', 'quarta', 'quinta', 'sexta', 'sabado']\n",
        "dia_da_semana = semana[semana.index(dia_da_semana)]\n",
        "\n",
        "if(dia_q_chegara == 0):\n",
        "  result = \"chega hoje!\" \n",
        "elif ((dia_q_chegara + semana.index(dia_da_semana)) >=6):\n",
        "      dia_q_chegara = (dia_q_chegara + semana.index(dia_da_semana)) -7\n",
        "      result = (f\"sera entregue {semana[dia_q_chegara]}\")\n",
        "else:\n",
        "  result = (f\"sera entregue {semana[semana.index(dia_da_semana) + dia_q_chegara]}\")\n",
        "\n",
        "print(result)\n"
      ],
      "execution_count": null,
      "outputs": [
        {
          "output_type": "stream",
          "text": [
            "terca\n",
            "5\n"
          ],
          "name": "stdout"
        },
        {
          "output_type": "execute_result",
          "data": {
            "application/vnd.google.colaboratory.intrinsic+json": {
              "type": "string"
            },
            "text/plain": [
              "'sera entregue domingo'"
            ]
          },
          "metadata": {
            "tags": []
          },
          "execution_count": 130
        }
      ]
    },
    {
      "cell_type": "markdown",
      "metadata": {
        "id": "yTdXvSpK5OQH"
      },
      "source": [
        "\n",
        "\n",
        "*    Entrada 2 numeros reais com notas dos trabalhos e prova regular\n",
        "*    Saida aprovado', 'reprovado' ou 'talvez com a sub',\n",
        "\n",
        "\n"
      ]
    },
    {
      "cell_type": "code",
      "metadata": {
        "colab": {
          "base_uri": "https://localhost:8080/",
          "height": 35
        },
        "id": "4ZLtTYwN6BK7",
        "outputId": "e0ae9c40-b032-4c06-a231-2d071303500d"
      },
      "source": [
        "preco_da_mercadoria = float(input())\n",
        "quantidade = int(input())\n",
        "valor_descontado = valor_original * 0.1\n",
        "valor_com_desconto = preco_da_mercadoria - valor_descontado\n",
        "valor_final = valor_com_desconto * quantidade\n",
        "print(preco_da_mercadoria)\n",
        "print(valor_final)\n",
        "\n"
      ],
      "execution_count": null,
      "outputs": [
        {
          "output_type": "execute_result",
          "data": {
            "application/vnd.google.colaboratory.intrinsic+json": {
              "type": "string"
            },
            "text/plain": [
              "'aprovado'"
            ]
          },
          "metadata": {
            "tags": []
          },
          "execution_count": 8
        }
      ]
    },
    {
      "cell_type": "code",
      "metadata": {
        "colab": {
          "base_uri": "https://localhost:8080/"
        },
        "id": "7oPd_fNU8YX_",
        "outputId": "bb7aad05-6919-4b99-b486-118f77bd86fd"
      },
      "source": [
        "\n",
        "tempos_em_minutos1 = int(input())\n",
        "tempos_em_minutos2 = int(input())\n",
        "tempos_em_minutos3 = int(input())\n",
        "\n",
        "soma_dos_tempos = (tempos_em_minutos1 + tempos_em_minutos2 + tempos_em_minutos3)\n",
        "# resultado = f'{soma_dos_tempos} minutos'.format(soma_dos_tempos = soma_dos_tempos)\n",
        "resultado = (soma_dos_tempos,\"minutos\")\n",
        "print (resultado)\n"
      ],
      "execution_count": null,
      "outputs": [
        {
          "output_type": "stream",
          "text": [
            "10\n",
            "10\n",
            "10\n"
          ],
          "name": "stdout"
        },
        {
          "output_type": "execute_result",
          "data": {
            "text/plain": [
              "(30, 'minutos')"
            ]
          },
          "metadata": {
            "tags": []
          },
          "execution_count": 106
        }
      ]
    },
    {
      "cell_type": "code",
      "metadata": {
        "colab": {
          "base_uri": "https://localhost:8080/"
        },
        "id": "Klw-n6SaDyPs",
        "outputId": "ffc23d61-a931-4b22-bc64-9c849060b3f1"
      },
      "source": [
        "trabalho = float(input())\n",
        "print(trabalho)\n",
        "prova_regular = float(input())\n",
        "print(prova_regular)\n",
        "media_final = (trabalho + prova_regular) / 2\n",
        "media_sub = 10\n",
        "if trabalho >=2:\n",
        "  if media_final >=6:\n",
        "      print('aprovado')\n",
        "  else:\n",
        "      media_sub = 10\n",
        "      media_final = (media_sub + media) / 2\n",
        "      if media_final > 6:\n",
        "          print('talvez com a sub')\n",
        "      else:\n",
        "          print('reprovado')\n",
        "else:\n",
        "  print('reprovado')\n"
      ],
      "execution_count": null,
      "outputs": [
        {
          "output_type": "stream",
          "text": [
            "2\n",
            "2.0\n",
            "0\n",
            "0.0\n",
            "talvez com a sub\n"
          ],
          "name": "stdout"
        }
      ]
    },
    {
      "cell_type": "code",
      "metadata": {
        "id": "sHv9A58MZe3Z"
      },
      "source": [
        ""
      ],
      "execution_count": null,
      "outputs": []
    },
    {
      "cell_type": "code",
      "metadata": {
        "colab": {
          "base_uri": "https://localhost:8080/",
          "height": 52
        },
        "id": "QLhKaYa3XCZp",
        "outputId": "b636da99-f5b5-4dd3-91fd-601698b1b333"
      },
      "source": [
        "def conversao():\n",
        "  qtd_polegadas = float(input())\n",
        "  eq_em_centimetros = qtd_polegadas * 2.54\n",
        "  output = f'{eq_em_centimetros:.3f}'\n",
        "  return output\n",
        "\n",
        "conversao()"
      ],
      "execution_count": null,
      "outputs": [
        {
          "output_type": "stream",
          "text": [
            "2.0\n"
          ],
          "name": "stdout"
        },
        {
          "output_type": "execute_result",
          "data": {
            "application/vnd.google.colaboratory.intrinsic+json": {
              "type": "string"
            },
            "text/plain": [
              "'5.080'"
            ]
          },
          "metadata": {
            "tags": []
          },
          "execution_count": 81
        }
      ]
    },
    {
      "cell_type": "code",
      "metadata": {
        "colab": {
          "base_uri": "https://localhost:8080/"
        },
        "id": "FLYffEX8KBSy",
        "outputId": "c3f208cf-8981-4e52-d552-e4460071b919"
      },
      "source": [
        "preco_mercadoria = float(input())\n",
        "quantidade = int(input())\n",
        "\n",
        "preco_bruto_total = preco_mercadoria * quantidade\n",
        "\n",
        "preco_desconto_fixo = preco_bruto_total * 0.1\n",
        "\n",
        "\n",
        "porcentagem_extra_desconto = quantidade /100\n",
        "preco_com_desconto_variavel = preco_bruto_total * porcentagem_extra_desconto\n",
        "\n",
        "valor_dos_descontos = preco_com_desconto_variavel + preco_desconto_fixo\n",
        "valor_total_com_desconto = preco_bruto_total - valor_dos_descontos\n",
        "print(f'{preco_bruto_total:.2f}')\n",
        "print(f'{valor_total_com_desconto:.2f}')"
      ],
      "execution_count": null,
      "outputs": [
        {
          "output_type": "stream",
          "text": [
            "100.00\n",
            "10\n",
            "1000.00\n",
            "800.00\n"
          ],
          "name": "stdout"
        }
      ]
    },
    {
      "cell_type": "code",
      "metadata": {
        "colab": {
          "base_uri": "https://localhost:8080/"
        },
        "id": "A6fj4mNf6a6g",
        "outputId": "001d0661-0797-4a08-b4f1-8c31b99010b8"
      },
      "source": [
        "nota1 = float(input())\n",
        "nota2 = float(input())\n",
        "media = (nota1 + nota2) / 2\n",
        "\n",
        "if media >= 6.00:\n",
        "    print('aprovado')\n",
        "if media < 6.00 and nota1 <= 0:\n",
        "    print('reprovado')\n",
        "if media < 6 and nota1 > 0.00:\n",
        "    print('talvez com sub')"
      ],
      "execution_count": null,
      "outputs": [
        {
          "output_type": "stream",
          "text": [
            "4.65\n",
            "4.54\n",
            "talvez com sub\n"
          ],
          "name": "stdout"
        }
      ]
    },
    {
      "cell_type": "code",
      "metadata": {
        "colab": {
          "base_uri": "https://localhost:8080/"
        },
        "id": "2qzoMDffZf_b",
        "outputId": "91e2182a-2ae0-4fa5-9bce-482ee67c6e2d"
      },
      "source": [
        "def professor():\n",
        "    nota_do_trabalho = float(input())\n",
        "    nota_prova = float(input())\n",
        "    \n",
        "    media = (nota_do_trabalho *5 + nota_prova *5)/10\n",
        "    \n",
        "    if media >=6:\n",
        "        print('aprovado')\n",
        "    elif media < 6 and nota_do_trabalho >=2:\n",
        "        print('talvez com a sub')\n",
        "    else:\n",
        "        print('reprovado')\n",
        "\n",
        "professor()\n"
      ],
      "execution_count": null,
      "outputs": [
        {
          "output_type": "stream",
          "text": [
            "0.00\n",
            "10.00\n",
            "reprovado\n"
          ],
          "name": "stdout"
        }
      ]
    },
    {
      "cell_type": "code",
      "metadata": {
        "colab": {
          "base_uri": "https://localhost:8080/"
        },
        "id": "5KFH_piLcCOf",
        "outputId": "938be51a-cc93-4923-84c9-3a5985f6656a"
      },
      "source": [
        "\n",
        "qtdd_polegadas = float(input())\n",
        "tamanho_polegada = 2.54\n",
        "conversao = qtdd_polegadas * tamanho_polegada\n",
        "conversao_output = f'{conversao:.3f}'\n",
        "print(conversao_output)\n"
      ],
      "execution_count": null,
      "outputs": [
        {
          "output_type": "stream",
          "text": [
            "10\n",
            "25.400\n"
          ],
          "name": "stdout"
        }
      ]
    },
    {
      "cell_type": "code",
      "metadata": {
        "colab": {
          "base_uri": "https://localhost:8080/",
          "height": 52
        },
        "id": "BtrszvOihWWj",
        "outputId": "aa395016-fe55-4f8d-c66e-685d632020be"
      },
      "source": [
        "numero = int(input())\n",
        "if numero %2 == 0:\n",
        "    numero_impar = numero -1\n",
        "    numero_par = numero + 2\n",
        "    print(f'{numero_impar} {numero_par}')\n",
        "else:\n",
        "    numero_impar = numero -2\n",
        "    numero_par = numero + 1\n",
        "    print(f'{numero_impar} {numero_par}')"
      ],
      "execution_count": null,
      "outputs": [
        {
          "output_type": "stream",
          "text": [
            "10\n"
          ],
          "name": "stdout"
        },
        {
          "output_type": "execute_result",
          "data": {
            "application/vnd.google.colaboratory.intrinsic+json": {
              "type": "string"
            },
            "text/plain": [
              "'9 12'"
            ]
          },
          "metadata": {
            "tags": []
          },
          "execution_count": 110
        }
      ]
    },
    {
      "cell_type": "markdown",
      "metadata": {
        "id": "voARRlqV3bIY"
      },
      "source": [
        "# Desafios do URI para treinamento\n"
      ]
    },
    {
      "cell_type": "markdown",
      "metadata": {
        "id": "Wv6QRMs-5XCK"
      },
      "source": [
        "# Hello World!"
      ]
    },
    {
      "cell_type": "code",
      "metadata": {
        "colab": {
          "base_uri": "https://localhost:8080/"
        },
        "id": "VMGU_nEl3gt_",
        "outputId": "7d671ee5-3a6e-4887-fbd1-75d1b9343e37"
      },
      "source": [
        "print('Hello World!')"
      ],
      "execution_count": null,
      "outputs": [
        {
          "output_type": "stream",
          "text": [
            "Hello World!\n"
          ],
          "name": "stdout"
        }
      ]
    },
    {
      "cell_type": "code",
      "metadata": {
        "colab": {
          "base_uri": "https://localhost:8080/",
          "height": 35
        },
        "id": "Zs7AWxSG39cw",
        "outputId": "97f434a5-89e2-4bd8-c871-b297cb2fa1f3"
      },
      "source": [
        "# se usar o return, colocar print\n",
        "def ola():\n",
        " primeiro_comando = 'Hello World!'\n",
        " return print(primeiro_comando)\n",
        "ola()"
      ],
      "execution_count": null,
      "outputs": [
        {
          "output_type": "execute_result",
          "data": {
            "application/vnd.google.colaboratory.intrinsic+json": {
              "type": "string"
            },
            "text/plain": [
              "'Hello World!'"
            ]
          },
          "metadata": {
            "tags": []
          },
          "execution_count": 2
        }
      ]
    },
    {
      "cell_type": "markdown",
      "metadata": {
        "id": "WnIylYLf5Z5R"
      },
      "source": [
        "# Extremamente Básico"
      ]
    },
    {
      "cell_type": "code",
      "metadata": {
        "colab": {
          "base_uri": "https://localhost:8080/"
        },
        "id": "fkzdpsHZ47s7",
        "outputId": "672fb095-9e41-4188-f7a6-6265ca67ace8"
      },
      "source": [
        "#Leia dos valores inteiros\n",
        "A = int(input())\n",
        "B = int(input())\n",
        "inputs = [A,B]\n",
        "result = sum(inputs)\n",
        "print('X =', result)"
      ],
      "execution_count": null,
      "outputs": [
        {
          "output_type": "stream",
          "text": [
            "10\n",
            "20\n",
            "X = 30\n"
          ],
          "name": "stdout"
        }
      ]
    },
    {
      "cell_type": "code",
      "metadata": {
        "colab": {
          "base_uri": "https://localhost:8080/"
        },
        "id": "z5Znykhb6nfO",
        "outputId": "34e66259-cfa6-44ee-acec-b89e186f2637"
      },
      "source": [
        "A = int(input())\n",
        "B = int(input())\n",
        "soma = A+B\n",
        "print('X =', soma)"
      ],
      "execution_count": null,
      "outputs": [
        {
          "output_type": "stream",
          "text": [
            "10\n",
            "20\n",
            "X 30\n"
          ],
          "name": "stdout"
        }
      ]
    },
    {
      "cell_type": "markdown",
      "metadata": {
        "id": "r08kvgPk9abn"
      },
      "source": [
        "# Diferença"
      ]
    },
    {
      "cell_type": "code",
      "metadata": {
        "colab": {
          "base_uri": "https://localhost:8080/"
        },
        "id": "K67rPGjy9d2r",
        "outputId": "e0923227-1131-4137-d6b2-a5cb88770d3a"
      },
      "source": [
        "A = int(input())\n",
        "B = int(input())\n",
        "C = int(input())\n",
        "D = int(input())\n",
        "A_B = (A * B)\n",
        "C_D = (C * D)\n",
        "diferenca = A_B - C_D\n",
        "text = 'DIFERENCA ='\n",
        "print(f'{text} {diferenca}')"
      ],
      "execution_count": null,
      "outputs": [
        {
          "output_type": "stream",
          "text": [
            "5\n",
            "6\n",
            "8\n",
            "8\n",
            "DIFERENCA = -34\n"
          ],
          "name": "stdout"
        }
      ]
    },
    {
      "cell_type": "markdown",
      "metadata": {
        "id": "mv9jp9oT7Kcl"
      },
      "source": [
        "# Consumo\n",
        "\n",
        "\n",
        "\n",
        "\n",
        "*   Calcule o consumo médio de um automóvel sendo fornecidos a distância total percorrida (em Km) e o total de combustível gasto (em litros).\n",
        "\n",
        "\n"
      ]
    },
    {
      "cell_type": "code",
      "metadata": {
        "colab": {
          "base_uri": "https://localhost:8080/"
        },
        "id": "bX1ZfFri7NiM",
        "outputId": "559fe4d4-ea7c-4fcb-d535-6825f60a4c97"
      },
      "source": [
        "# entrada 2 valores, X e Y\n",
        "# todo numero real é float\n",
        "\n",
        "X = int(input()) # distancia percorrida\n",
        "Y = float(input()) # total combustivel gasto\n",
        "\n",
        "consumo_medio = X/Y\n",
        "text = 'km/l'\n",
        "\n",
        "print(f'{consumo_medio:.3f} {text}')\n",
        "\n"
      ],
      "execution_count": null,
      "outputs": [
        {
          "output_type": "stream",
          "text": [
            "500\n",
            "35.0\n",
            "14.286 km/l\n"
          ],
          "name": "stdout"
        }
      ]
    },
    {
      "cell_type": "code",
      "metadata": {
        "id": "6nCtazl285IJ"
      },
      "source": [
        "def consumo_medio():\n",
        "  X = int(input()) # distancia percorrida\n",
        "  Y = float(input()) # total combustivel gasto\n",
        "\n",
        "  consumo_medio = X/Y\n",
        "  text = 'km/l'\n",
        "\n",
        "  return print(f'{consumo_medio:.3f} {text}')\n",
        "consumo_medio()\n"
      ],
      "execution_count": null,
      "outputs": []
    },
    {
      "cell_type": "markdown",
      "metadata": {
        "id": "m6TuPm4d_Zop"
      },
      "source": [
        "# Salário com Bônus"
      ]
    },
    {
      "cell_type": "code",
      "metadata": {
        "colab": {
          "base_uri": "https://localhost:8080/"
        },
        "id": "L4J_CH1R_XZJ",
        "outputId": "47d4ff77-ba86-4925-a146-287eff14a76e"
      },
      "source": [
        "nome_vendedor = input()\n",
        "salario_fixo = float(input())\n",
        "total_vendas = float(input())\n",
        "\n",
        "bonus = total_vendas * 0.15\n",
        "salario_total = salario_fixo + bonus\n",
        "text = 'TOTAL = R$'\n",
        "print(f'{text} {salario_total:.2f}')"
      ],
      "execution_count": null,
      "outputs": [
        {
          "output_type": "stream",
          "text": [
            "joao\n",
            "500\n",
            "1230.30\n",
            "TOTAL = R$ 684.54\n"
          ],
          "name": "stdout"
        }
      ]
    },
    {
      "cell_type": "markdown",
      "metadata": {
        "id": "C8mng2OqVv1o"
      },
      "source": [
        "\n",
        "Escreva um programa que leia três valores com ponto flutuante de dupla precisão: A, B e C. Em seguida, calcule e mostre:\n",
        "\n",
        "\n",
        "*   área do triângulo retângulo que tem A por base e C por altura.\n",
        "*   a área do círculo de raio C. (pi = 3.14159)\n",
        "*   a área do trapézio que tem A e B por bases e C por altura.\n",
        "*   a área do quadrado que tem lado B.\n",
        "*   a área do retângulo que tem lados A e B.\n",
        "\n",
        "\n",
        "\n"
      ]
    },
    {
      "cell_type": "code",
      "metadata": {
        "colab": {
          "base_uri": "https://localhost:8080/"
        },
        "id": "fEcXpcb6R_nI",
        "outputId": "ab4f66ce-0e51-4dd0-a793-235dc9da5935"
      },
      "source": [
        "A = float(input())\n",
        "B = float(input())\n",
        "C = float(input())\n",
        "\n",
        "pi = 3.14159\n",
        "area_triangulo = A*C/2\n",
        "area_circulo = pi * (C*C)\n",
        "area_trapezio = (A + B) * C/2\n",
        "area_quadrado = B ** 2\n",
        "area_retangulo = A * B\n",
        "text_triangulo = 'TRIANGULO:'\n",
        "text_circulo = 'CIRCULO:'\n",
        "text_trapezio = 'TRAPEZIO:'\n",
        "text_quadrado = 'QUADRADO:'\n",
        "text_retangulo = 'RETANGULO:'\n",
        "\n",
        "print('{text_triangulo} {area_triangulo:.3f}'.format(text_triangulo=text_triangulo,area_triangulo=area_triangulo))\n",
        "print('{text_circulo} {area_circulo:.3f}'.format(text_circulo=text_circulo,area_circulo=area_circulo))\n",
        "print('{text_trapezio} {area_trapezio:.3f}'.format(text_trapezio=text_trapezio,area_trapezio=area_trapezio))\n",
        "print('{text_quadrado} {area_quadrado:.3f}'.format(text_quadrado=text_quadrado, area_quadrado=area_quadrado))\n",
        "print('{text_retangulo} {area_retangulo:.3f}'.format(text_retangulo=text_retangulo,area_retangulo=area_retangulo))"
      ],
      "execution_count": null,
      "outputs": [
        {
          "output_type": "stream",
          "text": [
            "3.0\n",
            ".0\n",
            "5.2\n",
            "TRIANGULO: 7.800\n",
            "CIRCULO: 84.949\n",
            "TRAPEZIO: 7.800\n",
            "QUADRADO: 0.000\n",
            "RETANGULO: 0.000\n"
          ],
          "name": "stdout"
        }
      ]
    },
    {
      "cell_type": "code",
      "metadata": {
        "id": "0BYisSJc-Pj7"
      },
      "source": [
        "A,B,C = map(float, input().split())\n",
        "\n",
        "pi = 3.14159\n",
        "area_triangulo = A*C/2\n",
        "area_circulo = pi * (C*C)\n",
        "area_trapezio = (A + B) * C/2\n",
        "area_quadrado = B ** 2\n",
        "area_retangulo = A * B\n",
        "text_triangulo = 'TRIANGULO:'\n",
        "text_circulo = 'CIRCULO:'\n",
        "text_trapezio = 'TRAPEZIO:'\n",
        "text_quadrado = 'QUADRADO:'\n",
        "text_retangulo = 'RETANGULO:'\n",
        "\n",
        "print('{text_triangulo} {area_triangulo:.3f}'.format(text_triangulo=text_triangulo,area_triangulo=area_triangulo))\n",
        "print('{text_circulo} {area_circulo:.3f}'.format(text_circulo=text_circulo,area_circulo=area_circulo))\n",
        "print('{text_trapezio} {area_trapezio:.3f}'.format(text_trapezio=text_trapezio,area_trapezio=area_trapezio))\n",
        "print('{text_quadrado} {area_quadrado:.3f}'.format(text_quadrado=text_quadrado, area_quadrado=area_quadrado))\n",
        "print('{text_retangulo} {area_retangulo:.3f}'.format(text_retangulo=text_retangulo,area_retangulo=area_retangulo))"
      ],
      "execution_count": null,
      "outputs": []
    },
    {
      "cell_type": "code",
      "metadata": {
        "colab": {
          "base_uri": "https://localhost:8080/"
        },
        "id": "uS6vnGWA-pMz",
        "outputId": "b67c0cd2-88cd-4da4-92fb-4440941e4d67"
      },
      "source": [
        "import math\n",
        "\n",
        "x1,y1 = map(float, input().split())\n",
        "x2,y2 = map(float, input().split())\n",
        "\n",
        "primeiro_calculo = (x2-x1)**2\n",
        "segundo_calculo = (y2-y1)**2\n",
        "terceiro_calculo = primeiro_calculo + segundo_calculo\n",
        "raiz = math.sqrt(terceiro_calculo)\n",
        "print(f'{raiz:.4f}')"
      ],
      "execution_count": null,
      "outputs": [
        {
          "output_type": "stream",
          "text": [
            "1.0 5.0\n",
            "7.0 9.0\n",
            "7.2111\n"
          ],
          "name": "stdout"
        }
      ]
    },
    {
      "cell_type": "code",
      "metadata": {
        "colab": {
          "base_uri": "https://localhost:8080/"
        },
        "id": "F9Cmy-O8BjyA",
        "outputId": "cbea5b13-ed7c-4ba9-d963-056066dd503c"
      },
      "source": [
        "peca_1, numero_de_pecas1, valor_unitario_cada_peca1 = map(float, input().split())\n",
        "peca_2, numero_de_pecas2, valor_unitario_cada_peca2 = map(float, input().split())\n",
        "\n",
        "pecas = [peca_1, numero_de_pecas1, peca_2, numero_de_pecas2]\n",
        "pecas_int = [int(p) for p in pecas]\n",
        "peca_1, numero_de_pecas1, peca_2, numero_de_pecas2 = pecas_int\n",
        "\n",
        "valor_total_peca1 = numero_de_pecas1 * valor_unitario_cada_peca1\n",
        "valor_total_peca2 = numero_de_pecas2 * valor_unitario_cada_peca2\n",
        "valor_total_compra = valor_total_peca1 + valor_total_peca2\n",
        "\n",
        "text = 'VALOR A PAGAR: R$'\n",
        "\n",
        "print(f'{text} {valor_total_compra:.2f}')"
      ],
      "execution_count": null,
      "outputs": [
        {
          "output_type": "stream",
          "text": [
            "12 1 5.30\n",
            "16 2 5.10\n",
            "5.3\n",
            "10.2\n",
            "VALOR A PAGAR: R$ 10.60\n"
          ],
          "name": "stdout"
        }
      ]
    },
    {
      "cell_type": "code",
      "metadata": {
        "colab": {
          "base_uri": "https://localhost:8080/"
        },
        "id": "zyh-3GtNDobi",
        "outputId": "1a45bd66-6806-46ca-eece-10435796ca08"
      },
      "source": [
        "pontuacoes = input(\"Digite as pontuações: \").split()\n",
        "print(type(pontuacoes))"
      ],
      "execution_count": null,
      "outputs": [
        {
          "output_type": "stream",
          "text": [
            "Digite as pontuações: 1 2 3 4\n",
            "<class 'list'>\n"
          ],
          "name": "stdout"
        }
      ]
    },
    {
      "cell_type": "markdown",
      "metadata": {
        "id": "Ey10JkFz-6Qu"
      },
      "source": [
        "# Múltiplos"
      ]
    },
    {
      "cell_type": "code",
      "metadata": {
        "colab": {
          "base_uri": "https://localhost:8080/"
        },
        "id": "wiOi9VX7-5Xk",
        "outputId": "917e1f75-9a3c-42ad-aca9-1c9be312acad"
      },
      "source": [
        "A, B = map(int, input().split())\n",
        "\n",
        "if A % B == 0 or B % A == 0 :\n",
        "    print('Sao Multiplos')\n",
        "else:\n",
        "    print('Nao sao Multiplos')"
      ],
      "execution_count": null,
      "outputs": [
        {
          "output_type": "stream",
          "text": [
            "6 25\n",
            "Nao sao Multiplos\n"
          ],
          "name": "stdout"
        }
      ]
    },
    {
      "cell_type": "markdown",
      "metadata": {
        "id": "dlz15G9zCKH2"
      },
      "source": [
        "Mês 1052\n",
        "\n"
      ]
    },
    {
      "cell_type": "code",
      "metadata": {
        "colab": {
          "base_uri": "https://localhost:8080/"
        },
        "id": "a4n3jZ0PCKim",
        "outputId": "10b186b3-db0f-4499-ddaf-e0b399b422c3"
      },
      "source": [
        "month_value = int(input())\n",
        "numbers_if_the_months = list(range(1,13))\n",
        "if month_value in numbers_if_the_months:\n",
        "  months = {\n",
        "      1:'January',\n",
        "      2:'February',\n",
        "      3:'March',\n",
        "      4:'April',\n",
        "      5:'May',\n",
        "      6:'June',\n",
        "      7:'July',\n",
        "      8:'August',\n",
        "      9:'September',\n",
        "      10:'October',\n",
        "      11:'November',\n",
        "      12:'December'\n",
        "      }\n",
        "  print(months[month_value])\n"
      ],
      "execution_count": null,
      "outputs": [
        {
          "output_type": "stream",
          "text": [
            "2\n",
            "February\n"
          ],
          "name": "stdout"
        }
      ]
    },
    {
      "cell_type": "markdown",
      "metadata": {
        "id": "qN-pyuO_HcCT"
      },
      "source": [
        "# 1065 Pares entre Cinco Números\n"
      ]
    },
    {
      "cell_type": "code",
      "metadata": {
        "colab": {
          "base_uri": "https://localhost:8080/"
        },
        "id": "-0gldmH7HgPN",
        "outputId": "9b5962d0-4d2f-42ca-b22c-1a20ed30f326"
      },
      "source": [
        "num1 = int(input())\n",
        "num2 = int(input())\n",
        "num3 = int(input())\n",
        "num4 = int(input())\n",
        "num5 = int(input())\n",
        "\n",
        "lista_de_numeros = []\n",
        "lista_de_numeros.append(num1)\n",
        "lista_de_numeros.append(num2)\n",
        "lista_de_numeros.append(num3)\n",
        "lista_de_numeros.append(num4)\n",
        "lista_de_numeros.append(num5)\n",
        "lista_de_pares = [ el for el in lista_de_numeros if el % 2 == 0 ]\n",
        "qtd_pares = len(lista_de_pares)\n",
        "print(f'{qtd_pares} valores pares'.format(qtd_pares=qtd_pares))"
      ],
      "execution_count": null,
      "outputs": [
        {
          "output_type": "stream",
          "text": [
            "10\n",
            "11\n",
            "12\n",
            "13\n",
            "14\n",
            "3 valores pares\n"
          ],
          "name": "stdout"
        }
      ]
    },
    {
      "cell_type": "markdown",
      "metadata": {
        "id": "UoK0dapcL20j"
      },
      "source": [
        "# 1049 Animal\n"
      ]
    },
    {
      "cell_type": "code",
      "metadata": {
        "colab": {
          "base_uri": "https://localhost:8080/"
        },
        "id": "HvRrNAyUL4kt",
        "outputId": "814784ea-827f-49af-c51b-fcc1db3e9889"
      },
      "source": [
        "palavra1 = input()\n",
        "palavra2 = input()\n",
        "palavra3 = input()\n",
        "\n",
        "\n",
        "tipo_animal = {\n",
        "    'vertebrado':{'ave':{'carnivoro':'aguia','onivoro':'pomba'},'mamifero':{'onivoro':'homem','herbivoro':'vaca'}},\n",
        "    'invertebrado':{'inseto':{'hematofago':'pulga','herbivoro':'lagarta'},'anelideo':{'hematofago':'sanguessuga','onivoro':'minhoca'}}\n",
        "    }\n",
        "\n",
        "print(tipo_animal[palavra1][palavra2][palavra3])"
      ],
      "execution_count": null,
      "outputs": [
        {
          "output_type": "stream",
          "text": [
            "vertebrado\n",
            "mamifero\n",
            "onivoro\n",
            "homem\n"
          ],
          "name": "stdout"
        }
      ]
    },
    {
      "cell_type": "code",
      "metadata": {
        "colab": {
          "base_uri": "https://localhost:8080/"
        },
        "id": "8rZUq1s5T6KG",
        "outputId": "d0e505b3-38ed-41d9-9ddd-b66c0e43b76b"
      },
      "source": [
        "value = float(input())\n",
        "if 0 <= value <= 25:\n",
        "    print('Intervalo [0,25]')\n",
        "if 25 < value <= 50:\n",
        "    print('Intervalo (25,50]')\n",
        "if 50 < value <= 75:\n",
        "    print('Intervalo (50,75]')\n",
        "if 75 < value <= 100:\n",
        "    print('Intervalo (75,100]')\n",
        "if value > 100 or value < 0:\n",
        "    print('Fora de intervalo')"
      ],
      "execution_count": null,
      "outputs": [
        {
          "output_type": "stream",
          "text": [
            "100.00\n",
            "Fora de intervalo\n"
          ],
          "name": "stdout"
        }
      ]
    },
    {
      "cell_type": "markdown",
      "metadata": {
        "id": "pBIL-e8MeIe0"
      },
      "source": [
        "# URI Online Judge | 1040\n",
        "# Média 3\n"
      ]
    },
    {
      "cell_type": "code",
      "metadata": {
        "colab": {
          "base_uri": "https://localhost:8080/"
        },
        "id": "uwKpms3leJgY",
        "outputId": "7a7ece0f-5bbc-4658-bd03-c92763095fa1"
      },
      "source": [
        "n1, n2, n3, n4 = map(float, input().split())\n",
        "media = (n1 * 2 + n2 * 3 + n3 * 4 + n4 * 1) / 10\n",
        "print('Media: {:.1f}'.format(media))\n",
        "if media >= 7.0:\n",
        "    print('Aluno aprovado.')\n",
        "if media < 5.0:\n",
        "    print('Aluno reprovado.')\n",
        "if 5.0 <= media <= 6.9:\n",
        "    print('Aluno em exame.')\n",
        "    exame = float(input())\n",
        "    print('Nota do exame: {}'.format(exame))\n",
        "    nova_media = (exame + media) / 2\n",
        "    if nova_media >=5:\n",
        "        print('Aluno aprovado.')\n",
        "        print('Media final: {:.1f}'.format(nova_media))\n",
        "    else:\n",
        "        print('Aluno reprovado.')\n",
        "        print('Media final: {:.1f}'.format(nova_media))"
      ],
      "execution_count": null,
      "outputs": [
        {
          "output_type": "stream",
          "text": [
            "2.0 4.0 7.5 8.0\n",
            "Media: 5.4\n",
            "Aluno em exame.\n",
            "6.4\n",
            "Nota do exame: 6.4\n",
            "Aluno aprovado.\n",
            "Media final: 5.9\n"
          ],
          "name": "stdout"
        }
      ]
    },
    {
      "cell_type": "markdown",
      "metadata": {
        "id": "SyIl1a71I7AS"
      },
      "source": [
        "# 1067 Números Ímpares"
      ]
    },
    {
      "cell_type": "code",
      "metadata": {
        "colab": {
          "base_uri": "https://localhost:8080/"
        },
        "id": "OZqtSStAJ-Ej",
        "outputId": "1524df37-9872-4d11-f733-700e94614d4e"
      },
      "source": [
        "x = int(input())\n",
        "\n",
        "impares = list(range(1, x+1, 2))\n",
        "if x ==1:\n",
        "  print(x)\n",
        "else:\n",
        "  for i in reversed(impares[::-1]):\n",
        "    print(i)"
      ],
      "execution_count": null,
      "outputs": [
        {
          "output_type": "stream",
          "text": [
            "3\n",
            "1\n",
            "3\n"
          ],
          "name": "stdout"
        }
      ]
    },
    {
      "cell_type": "code",
      "metadata": {
        "colab": {
          "base_uri": "https://localhost:8080/"
        },
        "id": "RYOq5DH3Lg-R",
        "outputId": "fec3ce9b-5d64-4881-f7c1-403f3a497b75"
      },
      "source": [
        "x = int(input())\n",
        "i = 1\n",
        "while i <= x:\n",
        "    if i % 2 != 0:\n",
        "        print(i)\n",
        "    i = i + 1"
      ],
      "execution_count": null,
      "outputs": [
        {
          "output_type": "stream",
          "text": [
            "3\n",
            "1\n",
            "3\n"
          ],
          "name": "stdout"
        }
      ]
    },
    {
      "cell_type": "markdown",
      "metadata": {
        "id": "c1sqF_6sQWH3"
      },
      "source": [
        "# 1142 Tabuada"
      ]
    },
    {
      "cell_type": "code",
      "metadata": {
        "colab": {
          "base_uri": "https://localhost:8080/"
        },
        "id": "RmLS99MNQY27",
        "outputId": "a7ac8cdb-3631-45fa-fc89-2fbae9146ec5"
      },
      "source": [
        "n = int(input())  \n",
        "aux = 1  \n",
        "if n >= 0 and n <= 10:\n",
        "  while(aux <= 10):  \n",
        "    print('{0} X {1} = {2}'.format(n, aux, (aux * n)))  \n",
        "    aux = aux + 1 "
      ],
      "execution_count": null,
      "outputs": [
        {
          "output_type": "stream",
          "text": [
            "5\n",
            "5 X 1 = 5\n",
            "5 X 2 = 10\n",
            "5 X 3 = 15\n",
            "5 X 4 = 20\n",
            "5 X 5 = 25\n",
            "5 X 6 = 30\n",
            "5 X 7 = 35\n",
            "5 X 8 = 40\n",
            "5 X 9 = 45\n",
            "5 X 10 = 50\n"
          ],
          "name": "stdout"
        }
      ]
    },
    {
      "cell_type": "code",
      "metadata": {
        "colab": {
          "base_uri": "https://localhost:8080/"
        },
        "id": "3ZhCu0BwUfSg",
        "outputId": "fadf5d63-ced7-46c1-f3ae-ff76a359f241"
      },
      "source": [
        "n = int(input())\n",
        "aux = 1\n",
        "if 0 <= n <= 10:\n",
        "    while aux <= 10:\n",
        "        print('{0} x {1} = {2}'.format(n, aux, (aux * n)))\n",
        "        # print('10 x 10 = 100')\n",
        "        aux = aux + 1"
      ],
      "execution_count": null,
      "outputs": [
        {
          "output_type": "stream",
          "text": [
            "10\n",
            "10 X 1 = 10\n",
            "10 x 10 = 100\n",
            "10 X 2 = 20\n",
            "10 x 10 = 100\n",
            "10 X 3 = 30\n",
            "10 x 10 = 100\n",
            "10 X 4 = 40\n",
            "10 x 10 = 100\n",
            "10 X 5 = 50\n",
            "10 x 10 = 100\n",
            "10 X 6 = 60\n",
            "10 x 10 = 100\n",
            "10 X 7 = 70\n",
            "10 x 10 = 100\n",
            "10 X 8 = 80\n",
            "10 x 10 = 100\n",
            "10 X 9 = 90\n",
            "10 x 10 = 100\n",
            "10 X 10 = 100\n",
            "10 x 10 = 100\n"
          ],
          "name": "stdout"
        }
      ]
    },
    {
      "cell_type": "code",
      "metadata": {
        "colab": {
          "base_uri": "https://localhost:8080/"
        },
        "id": "pjevuXHFWtQI",
        "outputId": "c2b747e3-a89c-4a90-bba5-ee74d4bf49bc"
      },
      "source": [
        "n = int(input())\n",
        "aux = 1\n",
        "if 0 <= n <= 10:\n",
        "    while aux <= 10:\n",
        "        mult = aux * n\n",
        "        print(n,'x',aux,'=',mult)\n",
        "        # print('2 x 1 = 2')\n",
        "        aux = aux + 1"
      ],
      "execution_count": null,
      "outputs": [
        {
          "output_type": "stream",
          "text": [
            "2\n",
            "2 X 1 = 2\n",
            "2 x 1 = 2\n",
            "2 X 2 = 4\n",
            "2 x 1 = 2\n",
            "2 X 3 = 6\n",
            "2 x 1 = 2\n",
            "2 X 4 = 8\n",
            "2 x 1 = 2\n",
            "2 X 5 = 10\n",
            "2 x 1 = 2\n",
            "2 X 6 = 12\n",
            "2 x 1 = 2\n",
            "2 X 7 = 14\n",
            "2 x 1 = 2\n",
            "2 X 8 = 16\n",
            "2 x 1 = 2\n",
            "2 X 9 = 18\n",
            "2 x 1 = 2\n",
            "2 X 10 = 20\n",
            "2 x 1 = 2\n"
          ],
          "name": "stdout"
        }
      ]
    },
    {
      "cell_type": "markdown",
      "metadata": {
        "id": "6YtFEpU8ZCmI"
      },
      "source": [
        "URI Online Judge | 1168\n",
        "Intervalo de primos!"
      ]
    },
    {
      "cell_type": "code",
      "metadata": {
        "id": "m36lAoVbZDvB"
      },
      "source": [
        "# WIP"
      ],
      "execution_count": null,
      "outputs": []
    },
    {
      "cell_type": "markdown",
      "metadata": {
        "id": "zC0BV8uEAU_C"
      },
      "source": [
        "URI Online Judge | 1164\n",
        "Triângulo alfabético"
      ]
    },
    {
      "cell_type": "code",
      "metadata": {
        "id": "PEE-Mo_dAuqC",
        "colab": {
          "base_uri": "https://localhost:8080/"
        },
        "outputId": "0817758d-29e7-4689-adea-c14a35ae459a"
      },
      "source": [
        "# Receba como entrada um número inteiro N (1 <= N <= 26)\n",
        "# triângulo com exatas N linhas,\n",
        "\n",
        "\n",
        "import string\n",
        "\n",
        "def triangulo():\n",
        "  number = int(input())\n",
        "\n",
        "  alfabeto = list(string.ascii_uppercase)\n",
        "  if number <= 0 or number > 26:\n",
        "    return\n",
        "  else:\n",
        "    intervalo = list(range(0, number))\n",
        "    for i in intervalo:\n",
        "      idx = i\n",
        "      letra_atual = alfabeto[idx]\n",
        "      mult = idx + 1\n",
        "      impressao = letra_atual*mult\n",
        "      print(impressao)\n",
        "\n",
        "triangulo()"
      ],
      "execution_count": null,
      "outputs": [
        {
          "output_type": "stream",
          "text": [
            "25\n",
            "A\n",
            "BB\n",
            "CCC\n",
            "DDDD\n",
            "EEEEE\n",
            "FFFFFF\n",
            "GGGGGGG\n",
            "HHHHHHHH\n",
            "IIIIIIIII\n",
            "JJJJJJJJJJ\n",
            "KKKKKKKKKKK\n",
            "LLLLLLLLLLLL\n",
            "MMMMMMMMMMMMM\n",
            "NNNNNNNNNNNNNN\n",
            "OOOOOOOOOOOOOOO\n",
            "PPPPPPPPPPPPPPPP\n",
            "QQQQQQQQQQQQQQQQQ\n",
            "RRRRRRRRRRRRRRRRRR\n",
            "SSSSSSSSSSSSSSSSSSS\n",
            "TTTTTTTTTTTTTTTTTTTT\n",
            "UUUUUUUUUUUUUUUUUUUUU\n",
            "VVVVVVVVVVVVVVVVVVVVVV\n",
            "WWWWWWWWWWWWWWWWWWWWWWW\n",
            "XXXXXXXXXXXXXXXXXXXXXXXX\n",
            "YYYYYYYYYYYYYYYYYYYYYYYYY\n"
          ],
          "name": "stdout"
        }
      ]
    },
    {
      "cell_type": "markdown",
      "metadata": {
        "id": "J6k38fIfCWsu"
      },
      "source": [
        "# URI Online Judge | 1165\n",
        "# Doação"
      ]
    },
    {
      "cell_type": "code",
      "metadata": {
        "id": "sU_o-LhWCXxs",
        "colab": {
          "base_uri": "https://localhost:8080/"
        },
        "outputId": "04f94b98-eb05-4388-c46c-f81753a8fe7d"
      },
      "source": [
        "def ler_valor():\n",
        "  invalido = False\n",
        "  numeros_reais = []\n",
        "  while not invalido:\n",
        "    entrada = input().replace(',','.')\n",
        "    break_value = '-1.0'\n",
        "    if entrada == break_value or entrada.strip() == '':\n",
        "      total_doado = sum(numeros_reais)\n",
        "      total_reais = total_doado * 2.5\n",
        "      print(f'VC$ {total_doado:.2f}')\n",
        "      print(f'R$ {total_reais:.2f}')\n",
        "      break\n",
        "    else:\n",
        "      num_real = float(entrada)\n",
        "      numeros_reais.append(num_real)\n",
        "\n",
        "\n",
        "ler_valor()"
      ],
      "execution_count": null,
      "outputs": [
        {
          "output_type": "stream",
          "text": [
            "1\n",
            "-1.0\n",
            "VC$ 1.00\n",
            "R$ 2.50\n"
          ],
          "name": "stdout"
        }
      ]
    },
    {
      "cell_type": "code",
      "metadata": {
        "colab": {
          "base_uri": "https://localhost:8080/"
        },
        "id": "xJHCujWqRbld",
        "outputId": "886aee5c-81d2-43c1-e277-c05edcf9d136"
      },
      "source": [
        "x = [0,2,3]\n",
        "y = sum(x)\n",
        "print(f'VC$ {y:.2f}')\n"
      ],
      "execution_count": null,
      "outputs": [
        {
          "output_type": "stream",
          "text": [
            "VC$ 5.00\n"
          ],
          "name": "stdout"
        }
      ]
    },
    {
      "cell_type": "markdown",
      "metadata": {
        "id": "sNK1XrDJV0bv"
      },
      "source": [
        "URI Online Judge | 1167\n",
        "Anos bissextos"
      ]
    },
    {
      "cell_type": "code",
      "metadata": {
        "colab": {
          "base_uri": "https://localhost:8080/"
        },
        "id": "LU1KZgALVy1j",
        "outputId": "790e5ac2-af69-4309-f67a-f7e8095ad1ed"
      },
      "source": [
        "## test\n",
        "\n",
        "ano = int(input('que ano quer analisar'))\n",
        "regra1 = ano % 4 == 0\n",
        "regra2 = ano % 100 != 0 \n",
        "regra3 = ano % 400 == 0\n",
        "if regra1 and regra2 or regra3:\n",
        "  print('O ano {} é bissexto'.format(ano))\n",
        "else:\n",
        "  print('O ano {} não é bissexto'.format(ano))"
      ],
      "execution_count": null,
      "outputs": [
        {
          "output_type": "stream",
          "text": [
            "que ano quer analisar108\n",
            "O ano 108 é bissexto\n"
          ],
          "name": "stdout"
        }
      ]
    },
    {
      "cell_type": "code",
      "metadata": {
        "colab": {
          "base_uri": "https://localhost:8080/"
        },
        "id": "nwtgx2NWbNED",
        "outputId": "4db0f3f1-954d-4cd7-e357-78394b41b2f5"
      },
      "source": [
        "def calculo_bissexto(ano):\n",
        "  # ano = int(input('que ano quer analisar'))\n",
        "  regra1 = ano % 4 == 0\n",
        "  regra2 = ano % 100 != 0 \n",
        "  regra3 = ano % 400 == 0\n",
        "  if regra1 and regra2 or regra3:\n",
        "    print('O ano {} é bissexto'.format(ano))\n",
        "  else:\n",
        "    print('O ano {} não é bissexto'.format(ano))\n",
        "calculo_bissexto(1700)"
      ],
      "execution_count": null,
      "outputs": [
        {
          "output_type": "stream",
          "text": [
            "O ano 1700 não é bissexto\n"
          ],
          "name": "stdout"
        }
      ]
    },
    {
      "cell_type": "code",
      "metadata": {
        "colab": {
          "base_uri": "https://localhost:8080/"
        },
        "id": "8ObTkJZ7YCzV",
        "outputId": "38fb5deb-6f6b-41c3-b24e-4dad246f8757"
      },
      "source": [
        "## real\n",
        "\n",
        "def calculo_bissexto(ano):\n",
        "  regra1 = ano % 4 == 0\n",
        "  regra2 = ano % 100 != 0 \n",
        "  regra3 = ano % 400 == 0\n",
        "  if regra1 and regra2 or regra3:\n",
        "    return ano\n",
        "  else:\n",
        "    return\n",
        "\n",
        "def verificar_dados():\n",
        "  ano_inicial = int(input())\n",
        "  ano_final = int(input())\n",
        "  ano_final = ano_final + 1\n",
        "  bi = []\n",
        "  if ano_inicial >= 0 and ano_final <9999:\n",
        "    intervalo = list(range(ano_inicial, ano_final))\n",
        "    for ano in intervalo:\n",
        "      anos_bissextos = calculo_bissexto(ano)\n",
        "      if anos_bissextos != None:\n",
        "        bi.append(anos_bissextos)\n",
        "        print(str(anos_bissextos))\n",
        "    count_bi = len(bi)\n",
        "    print('bissextos: {c}'.format(c=count_bi))\n",
        "\n",
        "verificar_dados()\n",
        "\n",
        "\n"
      ],
      "execution_count": null,
      "outputs": [
        {
          "output_type": "stream",
          "text": [
            "1700\n",
            "1710\n",
            "1704\n",
            "1708\n",
            "bissextos: 2\n"
          ],
          "name": "stdout"
        }
      ]
    },
    {
      "cell_type": "code",
      "metadata": {
        "colab": {
          "base_uri": "https://localhost:8080/"
        },
        "id": "_9sYDykFwu0r",
        "outputId": "1f1e73c2-bbf4-4292-a003-70e13cfa5d1b"
      },
      "source": [
        "## real\n",
        "\n",
        "def calculo_bissexto(ano):\n",
        "  regra1 = ano % 4 == 0\n",
        "  regra2 = ano % 100 != 0 \n",
        "  regra3 = ano % 400 == 0\n",
        "  if regra1 and regra2 or regra3:\n",
        "    return ano\n",
        "  else:\n",
        "    return\n",
        "\n",
        "def verificar_dados_de_entrada():\n",
        "  ano_inicial = int(input())\n",
        "  ano_final = int(input())\n",
        "  ano_final = ano_final + 1\n",
        "  bi = []\n",
        "  if ano_inicial >= 0 and ano_final <9999:\n",
        "    intervalo = list(range(ano_inicial, ano_final))\n",
        "    for ano in intervalo:\n",
        "      anos_bissextos = calculo_bissexto(ano)\n",
        "      if anos_bissextos != None:\n",
        "        bi.append(anos_bissextos)\n",
        "        print(anos_bissextos)\n",
        "    count_bi = len(bi)\n",
        "    print('bissextos:', count_bi)\n",
        "\n",
        "verificar_dados_de_entrada()"
      ],
      "execution_count": null,
      "outputs": [
        {
          "output_type": "stream",
          "text": [
            "1988\n",
            "2024\n",
            "1988\n",
            "1992\n",
            "1996\n",
            "2000\n",
            "2004\n",
            "2008\n",
            "2012\n",
            "2016\n",
            "2020\n",
            "2024\n",
            "bissextos: 10\n",
            "bissextos: 10\n"
          ],
          "name": "stdout"
        }
      ]
    },
    {
      "cell_type": "code",
      "metadata": {
        "colab": {
          "base_uri": "https://localhost:8080/"
        },
        "id": "u6v7elPXc-Xd",
        "outputId": "23f41407-16f5-4fd5-d9d1-bee46775fc17"
      },
      "source": [
        "## real\n",
        "\n",
        "def calculo_bissexto(ano):\n",
        "  regra1 = ano % 4 == 0\n",
        "  regra2 = ano % 100 != 0 \n",
        "  regra3 = ano % 400 == 0\n",
        "  if regra1 and regra2 or regra3:\n",
        "    return ano\n",
        "\n",
        "\n",
        "def verificar_dados_de_entrada():\n",
        "  ano_inicial = int(input())\n",
        "  ano_final = int(input())\n",
        "  ano_final = ano_final + 1\n",
        "  bi = []\n",
        "  if ano_inicial >= 0 and ano_final <9999:\n",
        "    intervalo = list(range(ano_inicial, ano_final))\n",
        "    for ano in intervalo:\n",
        "      anos_bissextos = calculo_bissexto(ano)\n",
        "      if anos_bissextos != None:\n",
        "        bi.append(anos_bissextos)\n",
        "        print(anos_bissextos)\n",
        "    count_bi = len(bi)\n",
        "    print(f'bissextos:{count_bi}')\n",
        "\n",
        "verificar_dados_de_entrada()"
      ],
      "execution_count": null,
      "outputs": [
        {
          "output_type": "stream",
          "text": [
            "10\n",
            "20\n",
            "12\n",
            "16\n",
            "20\n",
            "<class 'int'>\n",
            "bissextos:3\n"
          ],
          "name": "stdout"
        }
      ]
    },
    {
      "cell_type": "code",
      "metadata": {
        "id": "ERt9ZMOFf8hp"
      },
      "source": [
        "inicio = int(input())\n",
        "fim = int(input())\n",
        "bissexto = 0\n",
        "\n",
        "for i in range(inicio, fim + 1): \n",
        "  if i % 4 == 0 and i % 100 != 0:\n",
        "    print(i)\n",
        "    bissexto += 1\n",
        "  elif i % 400 == 0:\n",
        "    print(i)  \n",
        "    bissexto += 1\n",
        "\n",
        "print(f'bissextos: {bissexto}')"
      ],
      "execution_count": null,
      "outputs": []
    },
    {
      "cell_type": "code",
      "metadata": {
        "colab": {
          "base_uri": "https://localhost:8080/"
        },
        "id": "vY7gOjtsiWf0",
        "outputId": "ee024cc2-5255-4c26-f98e-caab7d254dd9"
      },
      "source": [
        "def ano_inicial():\n",
        "  inicial = int(input())\n",
        "  return inicial\n",
        "\n",
        "\n",
        "def ano_final():\n",
        "  final = int(input())\n",
        "  return final\n",
        "\n",
        "\n",
        "def calcular_ano_bissexto(ano_inicial, ano_final):\n",
        "  bi = 0\n",
        "  for ano in range(ano_inicial, ano_final + 1):\n",
        "    regra1 = ano % 4 == 0\n",
        "    regra2 = ano % 100 != 0 \n",
        "    regra3 = ano % 400 == 0\n",
        "    if regra1 and regra2 or regra3:\n",
        "      print(ano)\n",
        "      bi +=1\n",
        "  print(f'bissextos: {bi}')\n",
        "\n",
        "ano_inicial = ano_inicial()\n",
        "ano_final = ano_final()\n",
        "calcular_ano_bissexto(ano_inicial, ano_final)"
      ],
      "execution_count": null,
      "outputs": [
        {
          "output_type": "stream",
          "text": [
            "10\n",
            "20\n",
            "12\n",
            "16\n",
            "20\n",
            "bissextos: 3\n"
          ],
          "name": "stdout"
        }
      ]
    },
    {
      "cell_type": "markdown",
      "metadata": {
        "id": "pPnbZLLH_9Oz"
      },
      "source": [
        "# URI Online Judge | 1166\n",
        "# Pague o aluguel!\n"
      ]
    },
    {
      "cell_type": "code",
      "metadata": {
        "id": "9m8lNnxb_-j3"
      },
      "source": [
        "# Dois números inteiros positivos, o primeiro representa o valor total da dívida e o segundo o valor que Ramón poderá pagar mensalmente.\n",
        "def ler_valor_total():\n",
        "  valor_total_divida = int(input())\n",
        "  return valor_total_divida\n",
        "\n",
        "\n",
        "def ler_valor_pagavel():\n",
        "  valor_q_sera_pago = int(input())\n",
        "  return valor_q_sera_pago\n",
        "\n",
        "def sumario(total, pagamento):\n",
        "  print(f'pagamento: {}')\n",
        "  antes = 300\n",
        "  depois = 250\n",
        "\n"
      ],
      "execution_count": null,
      "outputs": []
    },
    {
      "cell_type": "code",
      "metadata": {
        "colab": {
          "base_uri": "https://localhost:8080/"
        },
        "id": "J5aZ4E_jB5Ze",
        "outputId": "4750a998-3c7a-4038-9a03-d1b7c291e1d0"
      },
      "source": [
        "valor_parcela = int(input())\n",
        "valor_parcela = int(input())\n",
        "count = 0\n",
        "\n",
        "depois_do_pagamento = valor_total_divida - valor_parcela\n",
        "\n",
        "print('antes = {total_divida}'.format(total_divida=valor_total_divida))\n",
        "print('depois = {valor_parcela}'.format(valor_parcela=valor_parcela))\n",
        "print('-----')\n",
        "\n",
        "print('antes = {total_divida}'.format(total_divida=valor_total_divida))\n",
        "print('depois = {depois_do_pagamento}'.format(depois_do_pagamento=depois_do_pagamento))\n",
        "print('-----')"
      ],
      "execution_count": null,
      "outputs": [
        {
          "output_type": "stream",
          "text": [
            "300\n",
            "50\n",
            "antes = 300\n",
            "depois = 50\n",
            "-----\n",
            "antes = 300\n",
            "depois = 250\n",
            "-----\n"
          ],
          "name": "stdout"
        }
      ]
    },
    {
      "cell_type": "code",
      "metadata": {
        "colab": {
          "base_uri": "https://localhost:8080/"
        },
        "id": "g8y12vyYHTV5",
        "outputId": "f38962da-11db-4258-c172-6eae411df428"
      },
      "source": [
        "def ler_valor_total():\n",
        "  valor_total_divida = int(input())\n",
        "  return valor_total_divida\n",
        "\n",
        "\n",
        "def ler_valor_pagavel():\n",
        "  valor_q_sera_pago = int(input())\n",
        "  return valor_q_sera_pago\n",
        "\n",
        "def calcular_divida_restante(valor_total_divida, valor_parcela):\n",
        "  count = 0\n",
        "  while valor_total_divida != 0:\n",
        "    count = count+1\n",
        "    if valor_total_divida < valor_parcela:\n",
        "      valor_pago = 0\n",
        "      print(f'pagamento: {count}')\n",
        "      print(f'antes = {valor_total_divida}')\n",
        "      print(f'depois = {valor_pago}'.format(valor_pago))\n",
        "      print('-----')\n",
        "      break\n",
        "    else:\n",
        "      valor_total_divida = valor_total_divida - valor_parcela\n",
        "      valor_anterior = valor_total_divida + valor_parcela\n",
        "      print(f'pagamento: {count}')\n",
        "      print(f'antes = {valor_anterior}')\n",
        "      print(f'depois = {valor_total_divida}'.format(valor_total_divida))\n",
        "      print('-----')\n",
        "    \n",
        "\n",
        "valor_total = ler_valor_total()\n",
        "valor_parcela = ler_valor_pagavel()\n",
        "calcular_divida_restante(valor_total, valor_parcela)"
      ],
      "execution_count": null,
      "outputs": [
        {
          "output_type": "stream",
          "text": [
            "10\n",
            "5\n",
            "pagamento: 1\n",
            "antes = 10\n",
            "depois = 5\n",
            "-----\n",
            "pagamento: 2\n",
            "antes = 5\n",
            "depois = 0\n",
            "-----\n"
          ],
          "name": "stdout"
        }
      ]
    },
    {
      "cell_type": "markdown",
      "metadata": {
        "id": "l5JYtQIAY0dX"
      },
      "source": [
        "# URI Online Judge | 1168\n",
        "# Intervalo de primos!"
      ]
    },
    {
      "cell_type": "code",
      "metadata": {
        "colab": {
          "base_uri": "https://localhost:8080/"
        },
        "id": "mZhLRa1CgMWx",
        "outputId": "937ccaeb-4f40-42ae-a4cd-1f63d54c6dfe"
      },
      "source": [
        "n = int(input(\"Digite o valor de n (n > 0): \"))\n",
        "\n",
        "# n é primo até que se prove o contrário\n",
        "é_primo = True\n",
        "\n",
        "# procure por um divisor de n entre 2 e n-1\n",
        "divisor = 2\n",
        "while divisor < n and é_primo: # equivalente a \"div... and é_primo == True:\"\n",
        "    if n % divisor == 0:\n",
        "        é_primo = False\n",
        "    divisor += 1\n",
        "\n",
        "\n",
        "if é_primo and n != 1: # 1 não é primo\n",
        "    print(n, \"é primo\")\n",
        "else:\n",
        "    print(n, \"não é primo\")"
      ],
      "execution_count": null,
      "outputs": [
        {
          "output_type": "stream",
          "text": [
            "Digite o valor de n (n > 0): 10\n",
            "10 não é primo\n"
          ],
          "name": "stdout"
        }
      ]
    },
    {
      "cell_type": "code",
      "metadata": {
        "id": "oeCTQvWIkO9N",
        "colab": {
          "base_uri": "https://localhost:8080/"
        },
        "outputId": "2cec856e-7ad6-47aa-af4f-f5d2e591a6b0"
      },
      "source": [
        "def primo(n):\n",
        "    qtd_div = 0\n",
        "    for div in range(1, n+1):\n",
        "        if n % div == 0:\n",
        "            qtd_div += 1\n",
        "    if qtd_div == 2:\n",
        "        return True\n",
        "    else:\n",
        "        return False\n",
        "\n",
        "inicio = int(input())\n",
        "fim = int(input())\n",
        "qtd_primos = 0\n",
        "for n in range(inicio, fim+1):\n",
        "    if primo(n):\n",
        "        qtd_primos += 1\n",
        "        print(n)\n",
        "print(f'primos: {qtd_primos}')"
      ],
      "execution_count": null,
      "outputs": [
        {
          "output_type": "stream",
          "text": [
            "1\n",
            "10\n",
            "2\n",
            "3\n",
            "5\n",
            "7\n",
            "primos: 4\n"
          ],
          "name": "stdout"
        }
      ]
    },
    {
      "cell_type": "code",
      "metadata": {
        "id": "KX2pbKiWCHAG"
      },
      "source": [
        "def programa():\n",
        "  limite_inferior = int(input())\n",
        "  limite_superior = int(input())\n",
        "  count = []\n",
        "  while limite_inferior <= limite_superior:\n",
        "    if eh_primo(limite_inferior):\n",
        "      print(limite_inferior)\n",
        "      count.append(limite_inferior)\n",
        "    limite_inferior = limite_inferior + 1\n",
        "  total = len(count)\n",
        "  print('primos: {}'.format(total))    \n",
        "\n",
        "\n",
        "def eh_primo(numero):\n",
        "  inicio = 1\n",
        "  contar_divisores = 0\n",
        "  while inicio <= numero:\n",
        "    if numero % inicio == 0:\n",
        "      contar_divisores = contar_divisores + 1\n",
        "    inicio = inicio + 1\n",
        "  if contar_divisores != 2:\n",
        "    return False\n",
        "  else:\n",
        "    return True\n",
        "\n",
        "programa()"
      ],
      "execution_count": null,
      "outputs": []
    },
    {
      "cell_type": "code",
      "metadata": {
        "colab": {
          "base_uri": "https://localhost:8080/"
        },
        "id": "3gqy6o4EjI39",
        "outputId": "451c91fb-c1c9-4d9a-b5a9-5cbbf5fa690a"
      },
      "source": [
        "lista = list(range(100))\n",
        "print"
      ],
      "execution_count": null,
      "outputs": [
        {
          "output_type": "stream",
          "text": [
            "10\n",
            "20\n",
            "range(10, 20)\n"
          ],
          "name": "stdout"
        }
      ]
    },
    {
      "cell_type": "code",
      "metadata": {
        "id": "8a3WpCDFglDW",
        "colab": {
          "base_uri": "https://localhost:8080/"
        },
        "outputId": "679daae0-fd16-4253-8ba3-32571cac89ee"
      },
      "source": [
        "lista = [1, 3, 5, 7, 8, 9]\n",
        "8 in lista"
      ],
      "execution_count": null,
      "outputs": [
        {
          "output_type": "execute_result",
          "data": {
            "text/plain": [
              "True"
            ]
          },
          "metadata": {
            "tags": []
          },
          "execution_count": 1
        }
      ]
    },
    {
      "cell_type": "markdown",
      "metadata": {
        "id": "PRfMozHQ7Y37"
      },
      "source": [
        "# URI Online Judge | 1269\n"
      ]
    },
    {
      "cell_type": "code",
      "metadata": {
        "colab": {
          "base_uri": "https://localhost:8080/",
          "height": 212
        },
        "id": "ZsWpc17F7eoh",
        "outputId": "369e97db-cca4-437a-88b6-6fe373769c13"
      },
      "source": [
        "lista_de_compra = int(input())\n",
        "lista_de_compra = list(lista_de_compra)\n",
        "print(lista_de_compra)"
      ],
      "execution_count": null,
      "outputs": [
        {
          "output_type": "stream",
          "text": [
            "1\n"
          ],
          "name": "stdout"
        },
        {
          "output_type": "error",
          "ename": "TypeError",
          "evalue": "ignored",
          "traceback": [
            "\u001b[0;31m---------------------------------------------------------------------------\u001b[0m",
            "\u001b[0;31mTypeError\u001b[0m                                 Traceback (most recent call last)",
            "\u001b[0;32m<ipython-input-2-e0717a31488c>\u001b[0m in \u001b[0;36m<module>\u001b[0;34m()\u001b[0m\n\u001b[1;32m      1\u001b[0m \u001b[0mlista_de_compra\u001b[0m \u001b[0;34m=\u001b[0m \u001b[0mint\u001b[0m\u001b[0;34m(\u001b[0m\u001b[0minput\u001b[0m\u001b[0;34m(\u001b[0m\u001b[0;34m)\u001b[0m\u001b[0;34m)\u001b[0m\u001b[0;34m\u001b[0m\u001b[0;34m\u001b[0m\u001b[0m\n\u001b[0;32m----> 2\u001b[0;31m \u001b[0mlista_de_compra\u001b[0m \u001b[0;34m=\u001b[0m \u001b[0mlist\u001b[0m\u001b[0;34m(\u001b[0m\u001b[0mlista_de_compra\u001b[0m\u001b[0;34m)\u001b[0m\u001b[0;34m\u001b[0m\u001b[0;34m\u001b[0m\u001b[0m\n\u001b[0m\u001b[1;32m      3\u001b[0m \u001b[0mprint\u001b[0m\u001b[0;34m(\u001b[0m\u001b[0mlista_de_compra\u001b[0m\u001b[0;34m)\u001b[0m\u001b[0;34m\u001b[0m\u001b[0;34m\u001b[0m\u001b[0m\n",
            "\u001b[0;31mTypeError\u001b[0m: 'int' object is not iterable"
          ]
        }
      ]
    },
    {
      "cell_type": "markdown",
      "metadata": {
        "id": "inaXTJGh9YES"
      },
      "source": [
        "# URI Online Judge | 1270\n"
      ]
    },
    {
      "cell_type": "code",
      "metadata": {
        "colab": {
          "base_uri": "https://localhost:8080/"
        },
        "id": "4wBPJrZd9ZFx",
        "outputId": "d0930f22-1769-40f7-a63e-9b88eabebdae"
      },
      "source": [
        "primeiro = int(input())\n",
        "segundo = int(input())\n",
        "\n",
        "\n",
        "if primeiro <= segundo:\n",
        "  intervalo = list(range(primeiro, segundo+1))\n",
        "  for numero in intervalo:\n",
        "    aux = 1 \n",
        "    if numero <= intervalo[-1]:\n",
        "      while(aux <= 10):  \n",
        "        print('{0} x {1} = {2}'.format(numero, aux, (aux * numero)))  \n",
        "        aux = aux + 1\n",
        "      print(\"-\" * 10)\n",
        "else:\n",
        "  print(\"Nenhuma tabuada no intervalo!\")\n"
      ],
      "execution_count": 37,
      "outputs": [
        {
          "output_type": "stream",
          "text": [
            "1\n",
            "3\n",
            "1 x 1 = 1\n",
            "1 x 2 = 2\n",
            "1 x 3 = 3\n",
            "1 x 4 = 4\n",
            "1 x 5 = 5\n",
            "1 x 6 = 6\n",
            "1 x 7 = 7\n",
            "1 x 8 = 8\n",
            "1 x 9 = 9\n",
            "1 x 10 = 10\n",
            "----------\n",
            "2 x 1 = 2\n",
            "2 x 2 = 4\n",
            "2 x 3 = 6\n",
            "2 x 4 = 8\n",
            "2 x 5 = 10\n",
            "2 x 6 = 12\n",
            "2 x 7 = 14\n",
            "2 x 8 = 16\n",
            "2 x 9 = 18\n",
            "2 x 10 = 20\n",
            "----------\n",
            "3 x 1 = 3\n",
            "3 x 2 = 6\n",
            "3 x 3 = 9\n",
            "3 x 4 = 12\n",
            "3 x 5 = 15\n",
            "3 x 6 = 18\n",
            "3 x 7 = 21\n",
            "3 x 8 = 24\n",
            "3 x 9 = 27\n",
            "3 x 10 = 30\n",
            "----------\n"
          ],
          "name": "stdout"
        }
      ]
    },
    {
      "cell_type": "markdown",
      "metadata": {
        "id": "uGKYD9Z9MKfG"
      },
      "source": [
        "# URI Online Judge | 1283\n",
        "# Corra Forrest!\n",
        "\n",
        "\n"
      ]
    },
    {
      "cell_type": "code",
      "metadata": {
        "colab": {
          "base_uri": "https://localhost:8080/"
        },
        "id": "HCxzEopuMJwM",
        "outputId": "073ec236-285e-4561-fd16-3034113ab2f3"
      },
      "source": [
        "numero = int(input())\n",
        "lista = list()\n",
        "while numero > 0:\n",
        "  lista.append(numero)\n",
        "  numero = int(input())\n",
        "  qtdd = len(lista)\n",
        "  soma= sum(lista)\n",
        "  media = float(soma/qtdd)\n",
        "print(f\"MEDIA: {media:.2f}\")\n",
        "for numero in lista:\n",
        "  if numero < media:\n",
        "    print(numero)"
      ],
      "execution_count": null,
      "outputs": [
        {
          "output_type": "stream",
          "text": [
            "2500\n",
            "2500\n",
            "2500\n",
            "2500\n",
            "2500\n",
            "-1\n",
            "[2500, 2500, 2500, 2500, 2500]\n",
            "MEDIA: 2500.00\n"
          ],
          "name": "stdout"
        }
      ]
    },
    {
      "cell_type": "markdown",
      "metadata": {
        "id": "C2LJfYpDQTGV"
      },
      "source": [
        "774\n",
        "141\n",
        "182\n",
        "493\n",
        "198\n",
        "851\n",
        "189\n",
        "708\n",
        "581\n",
        "-94"
      ]
    },
    {
      "cell_type": "markdown",
      "metadata": {
        "id": "CQR60hdjTXjw"
      },
      "source": [
        "# URI Online Judge | 1284\n",
        "# Segunda chance\n",
        "\n",
        "---\n",
        "\n"
      ]
    },
    {
      "cell_type": "code",
      "metadata": {
        "colab": {
          "base_uri": "https://localhost:8080/"
        },
        "id": "YfktrTgxTaVC",
        "outputId": "f6551167-d722-490f-baa0-0613c65703f1"
      },
      "source": [
        "numero = int(input())\n",
        "intervalo = range(1,numero+1)\n",
        "lista_de_notas = {}\n",
        "for i in intervalo:\n",
        "  print(i,\"i\")\n",
        "  nota_original = float(input())\n",
        "  nota_original_format = \"%.2f\" %nota_original\n",
        "  lista_de_notas[i] = nota_original_format\n",
        "  print(lista_de_notas)\n",
        "for i in intervalo:\n",
        "  segunda_chance = float(input())\n",
        "  segunda_chance_format = \"%.2f\" %segunda_chance\n",
        "  lista_de_notas[i] = segunda_chance_format\n",
        "  print(lista_de_notas,\"passei\")"
      ],
      "execution_count": null,
      "outputs": [
        {
          "output_type": "stream",
          "text": [
            "2\n",
            "1 i\n",
            "3\n",
            "{1: '3.00'}\n",
            "2 i\n",
            "4\n",
            "{1: '3.00', 2: '4.00'}\n",
            "5\n",
            "{1: '5.00', 2: '4.00'} passei\n",
            "6\n",
            "{1: '5.00', 2: '6.00'} passei\n"
          ],
          "name": "stdout"
        }
      ]
    },
    {
      "cell_type": "code",
      "metadata": {
        "colab": {
          "base_uri": "https://localhost:8080/"
        },
        "id": "B0xwSFIZ4tQn",
        "outputId": "00ea7058-6c21-4e7e-8bb2-8dd540174391"
      },
      "source": [
        "numero = int(input())\n",
        "nota_original = []\n",
        "segunda_change = []\n",
        "\n",
        "for i in range(numero):\n",
        "  nota_original.append(float(input()))\n",
        "\n",
        "for i in range(numero):\n",
        "  segunda_change.append(float(input()))\n",
        "\n",
        "nota_final = []\n",
        "nota_alterada = 0\n",
        "\n",
        "for i in range(numero):\n",
        "  n_original = nota_original[i]\n",
        "  s_change = segunda_change[i]\n",
        "  nf = n_original\n",
        "\n",
        "  if (s_change ==10):\n",
        "    nf += 2\n",
        "\n",
        "  if (nf > 10):\n",
        "    nf = 10\n",
        "\n",
        "  if nf != n_original:\n",
        "    nota_alterada +=1\n",
        "\n",
        "  nota_final.append([n_original, nf])\n",
        "\n",
        "print(f'NOTAS ALTERADAS: {nota_alterada}')\n",
        "\n",
        "for i, nota in enumerate(nota_final):\n",
        "  alt = '-'\n",
        "  if (nota[0] != nota[1]):\n",
        "    alt = '*'\n",
        "  print(f'{alt}({(i+1):03d}) original: {nota[0]:05.2f} | final: {nota[1]:05.2f}')\n",
        "\n",
        "\n",
        "print('NOTAS ALTERADAS: 0')\n",
        "print('-(001) original: 10.00 | final: 10.00')\n",
        "\n"
      ],
      "execution_count": null,
      "outputs": [
        {
          "output_type": "stream",
          "text": [
            "5\n",
            "7.00\n",
            "6.00\n",
            "10.00\n",
            "1.00\n",
            "9.00\n",
            "10.00\n",
            "10.00\n",
            "10.00\n",
            "10.00\n",
            "10.00\n",
            "NOTAS ALTERADAS:4\n",
            "*(001) original: 07.00 | final: 09.00\n",
            "*(002) original: 06.00 | final: 08.00\n",
            "-(003) original: 10.00 | final: 10.00\n",
            "*(004) original: 01.00 | final: 03.00\n",
            "*(005) original: 09.00 | final: 10.00\n",
            "NOTAS ALTERADAS: 0\n",
            "-(001) original: 10.00 | final: 10.00\n"
          ],
          "name": "stdout"
        }
      ]
    },
    {
      "cell_type": "markdown",
      "metadata": {
        "id": "5vDVQmOLCwoa"
      },
      "source": [
        "# URI Online Judge | 1269\n",
        "# Carrinho de compras\n",
        "\n"
      ]
    },
    {
      "cell_type": "code",
      "metadata": {
        "colab": {
          "base_uri": "https://localhost:8080/"
        },
        "id": "TzyEEoh2Cs9q",
        "outputId": "fde00ade-1c82-46b7-82ec-32cacb0c9578"
      },
      "source": [
        "lista_de_produtos = []\n",
        "tamanho_vetor = 0\n",
        "def remover_produto(produto):\n",
        "  if produto in lista_de_produtos:\n",
        "    indice = lista_de_produtos.index(produto)\n",
        "    del(lista_de_produtos[indice])\n",
        "  else:\n",
        "    print(f'código {produto} não encontrado')\n",
        "\n",
        "def adicionar_produto(produto):\n",
        "  lista_de_produtos.append(produto)\n",
        "\n",
        "def exibir_lista(lista):\n",
        "  numeros_ordenados = sorted(lista)\n",
        "  lista = ' '.join([str(item) for item in numeros_ordenados])\n",
        "  print(lista)\n",
        "\n",
        "def primeira_leitura():\n",
        "  entrada_inicial = input().split()\n",
        "  if entrada_inicial != []:\n",
        "    entrada_inicial = list(map(int,entrada_inicial))\n",
        "    tamanho_vetor = len(entrada_inicial)\n",
        "    for i in range(tamanho_vetor):\n",
        "      lista_de_produtos.append(entrada_inicial[i])\n",
        "\n",
        "primeira_leitura()\n",
        "\n",
        "while True:\n",
        "  comando = input()\n",
        "  if comando == 'exibir':\n",
        "    exibir_lista(lista_de_produtos)\n",
        "  elif comando.split(\" \")[0] == \"adicionar\":\n",
        "    produto_adicionado = int(comando.split(\" \")[1])\n",
        "    adicionar_produto(produto_adicionado)\n",
        "  elif comando.split(\" \")[0] == \"remover\":\n",
        "    produto_removido = int(comando.split(\" \")[1])\n",
        "    remover_produto(produto_removido)\n",
        "  else:\n",
        "    exibir_lista(lista_de_produtos)\n",
        "    break\n"
      ],
      "execution_count": null,
      "outputs": [
        {
          "output_type": "stream",
          "text": [
            "1 25 36\n",
            "exibir\n",
            "1 25 36\n",
            "encerrar\n",
            "1 25 36\n"
          ],
          "name": "stdout"
        }
      ]
    },
    {
      "cell_type": "markdown",
      "metadata": {
        "id": "uUGKYKNpPQqn"
      },
      "source": [
        "# URI Online Judge | 1282\n",
        "# ImpacTube"
      ]
    },
    {
      "cell_type": "code",
      "metadata": {
        "id": "mbGhzDN3PTPc"
      },
      "source": [
        "# def preenche_tabela(qtdd_canais):\n",
        "#   if qtdd_canais >= 1 and qtdd_canais <=200:\n",
        "#     tabela_de_canais = []\n",
        "#     for i in range(qtdd_canais):\n",
        "#       print(f'{i + 1}o dado:', end=' ')\n",
        "#       print(tabela_de_canais, \"tabela\")\n",
        "#       canal = coleta_dados_dos_canais()\n",
        "#       tabela_de_canais.append(canal)\n",
        "#     return tabela_de_canais\n",
        "\n",
        "# def coleta_dados_dos_canais():\n",
        "#   canal = input().split()\n",
        "#   for i in range(len(canal)):\n",
        "#     print(canal, \"canal\")\n",
        "#     print(i, \"i\")\n",
        "#   return canal\n",
        "\n",
        "# qtdd_canais = int(input())\n",
        "# turma = preenche_tabela(qtdd_canais)\n",
        "# print(turma)"
      ],
      "execution_count": null,
      "outputs": []
    },
    {
      "cell_type": "code",
      "metadata": {
        "colab": {
          "base_uri": "https://localhost:8080/"
        },
        "id": "RlwXmQkH1JKc",
        "outputId": "30144dd9-0be6-4894-838d-ef4bd58cfa58"
      },
      "source": [
        "def verificar_bonus():  \n",
        "  loops = int(input())\n",
        "\n",
        "  canais = []\n",
        "\n",
        "  for i in range(loops):\n",
        "      canais.append(input().split(';'))\n",
        "      \n",
        "  bonus_premium = float(input())\n",
        "  bonus_normal = float(input())\n",
        "\n",
        "  print('-----')\n",
        "  print('BÔNUS')\n",
        "  print('-----')\n",
        "\n",
        "  for canal in canais:\n",
        "      bonus = 0\n",
        "      if (canal[3] == 'sim'):\n",
        "          bonus = bonus_premium\n",
        "      else:\n",
        "          bonus = bonus_normal\n",
        "      \n",
        "      value = ((float(canal[1])//1000)*bonus) + float(canal[2])\n",
        "      \n",
        "      print(f'{canal[0]}: R$ {value:.2f}')\n",
        "\n",
        "\n",
        "verificar_bonus()"
      ],
      "execution_count": null,
      "outputs": [
        {
          "output_type": "stream",
          "text": [
            "1\n",
            "Joãozinho TôComeçando;950;10.00;não\n",
            "1.00\n",
            "0.50\n",
            "-----\n",
            "BÔNUS\n",
            "-----\n",
            "Joãozinho TôComeçando: R$ 10.00\n"
          ],
          "name": "stdout"
        }
      ]
    },
    {
      "cell_type": "code",
      "metadata": {
        "colab": {
          "base_uri": "https://localhost:8080/"
        },
        "id": "3VncpLdzSD3w",
        "outputId": "79181a96-0885-4a56-dbf6-0f150c3393ba"
      },
      "source": [
        "def coleta_notas():\n",
        "  notas = input().split()\n",
        "  for i in range(len(notas)):\n",
        "    notas[i] = float(notas[i])\n",
        "  return notas\n",
        "\n",
        "def preenche_turma(qtd_alunos):\n",
        "  turma = []\n",
        "  for i in range(qtd_alunos):\n",
        "    print(f'{i + 1}o aluno:', end=' ')\n",
        "    aluno = coleta_notas()\n",
        "    turma.append(aluno)\n",
        "  return turma\n",
        "\n",
        "def calcula_media(aluno):\n",
        "  soma = 0\n",
        "  for nota in aluno:\n",
        "    soma += nota\n",
        "  return soma / len(aluno)\n",
        "\n",
        "def resumo_turma(turma):\n",
        "  for aluno in turma:\n",
        "    media = calcula_media(aluno)\n",
        "    print(f'notas: {aluno} | média: {media:5.2f}')\n",
        "\n",
        "qtd_alunos = int(input('Quantidade: '))\n",
        "turma = preenche_turma(qtd_alunos)\n",
        "resumo_turma(turma)"
      ],
      "execution_count": null,
      "outputs": [
        {
          "output_type": "stream",
          "text": [
            "Quantidade: 2\n",
            "1o aluno: 6.3 6.3 6.3\n",
            "2o aluno: 5.5 5.5 5.5\n"
          ],
          "name": "stdout"
        }
      ]
    },
    {
      "cell_type": "code",
      "metadata": {
        "colab": {
          "base_uri": "https://localhost:8080/"
        },
        "id": "g5B2MuyynC8z",
        "outputId": "17390ae1-c463-4524-a36d-e51ecc09fa16"
      },
      "source": [
        "dados = input()\n",
        "# entrada: Historia sem Fim;2100000;400.98;não\n",
        "sub = dados.split(\";\")\n",
        "print(sub)\n",
        "print(list(sub))"
      ],
      "execution_count": null,
      "outputs": [
        {
          "output_type": "stream",
          "text": [
            "Historia sem Fim;2100000;400.98;não\n",
            "['Historia sem Fim', '2100000', '400.98', 'não']\n",
            "['Historia sem Fim', '2100000', '400.98', 'não']\n"
          ],
          "name": "stdout"
        }
      ]
    },
    {
      "cell_type": "code",
      "metadata": {
        "id": "bZ5GBZV0uAsX"
      },
      "source": [
        "dados = input()\n",
        "dados_na_lista = []\n",
        "dados_cru = \n"
      ],
      "execution_count": null,
      "outputs": []
    },
    {
      "cell_type": "markdown",
      "metadata": {
        "id": "AeSJ--KCaO12"
      },
      "source": [
        "# URI Online Judge | 1073\n",
        "# Quadrado de Pares"
      ]
    },
    {
      "cell_type": "code",
      "metadata": {
        "id": "ZKefThYryw_j",
        "colab": {
          "base_uri": "https://localhost:8080/"
        },
        "outputId": "07a49c13-2171-45aa-a78e-fc9dc0bd9e2e"
      },
      "source": [
        "numero = int(input())\n",
        "if numero < 2000 and numero > 5:\n",
        "  intervalo =  list(range(2,numero+1))\n",
        "  for e_par in intervalo:\n",
        "    aux = 1\n",
        "    if e_par % 2 ==0:\n",
        "      mult = e_par * e_par\n",
        "      dois = 2\n",
        "      print(f'{e_par}^{dois} = {mult}')\n"
      ],
      "execution_count": null,
      "outputs": [
        {
          "output_type": "stream",
          "text": [
            "6\n",
            "2^2 = 4\n",
            "4^2 = 16\n",
            "6^2 = 36\n"
          ],
          "name": "stdout"
        }
      ]
    },
    {
      "cell_type": "markdown",
      "metadata": {
        "id": "EzpnLRkTfWCz"
      },
      "source": [
        "# URI Online Judge | 1154\n",
        "# Idades"
      ]
    },
    {
      "cell_type": "code",
      "metadata": {
        "colab": {
          "base_uri": "https://localhost:8080/"
        },
        "id": "oMOn9iKlfVCy",
        "outputId": "e7c8bf23-a944-40b0-b46c-74c027b86bcb"
      },
      "source": [
        "idade = int(input())\n",
        "idades = []\n",
        "while idade > 0:\n",
        "  idades.append(idade)\n",
        "  idade = int(input())\n",
        "\n",
        "media_de_idades = sum(idades)/len(idades)\n",
        "print(f'{media_de_idades:.2f}')"
      ],
      "execution_count": null,
      "outputs": [
        {
          "output_type": "stream",
          "text": [
            "10\n",
            "20\n",
            "30\n",
            "40\n",
            "-1\n",
            "25.00\n"
          ],
          "name": "stdout"
        }
      ]
    },
    {
      "cell_type": "markdown",
      "metadata": {
        "id": "wn0One2hhMKq"
      },
      "source": [
        "URI Online Judge | 1153\n",
        "Fatorial Simples\n"
      ]
    },
    {
      "cell_type": "markdown",
      "metadata": {
        "id": "sZXythrjtGrP"
      },
      "source": [
        "Ler um valor N. Calcular e escrever seu respectivo fatorial. Fatorial de N = N * (N-1) * (N-2) * (N-3) * ... * 1.\n",
        "\n",
        "Entrada\n",
        "A entrada contém um valor inteiro N (0 < N < 13).\n",
        "\n",
        "Saída\n",
        "A saída contém um valor inteiro, correspondente ao fatorial de N.\n",
        "\n"
      ]
    },
    {
      "cell_type": "code",
      "metadata": {
        "id": "sQRtILMIhLg1",
        "colab": {
          "base_uri": "https://localhost:8080/"
        },
        "outputId": "643d464b-f826-4f85-e2d6-fb67b8ba2afe"
      },
      "source": [
        "from math import factorial\n",
        "\n",
        "number = int(input())\n",
        "\n",
        "if number > 0 and number <13:\n",
        "  fact = factorial(number)\n",
        "  print(fact)\n"
      ],
      "execution_count": 30,
      "outputs": [
        {
          "output_type": "stream",
          "text": [
            "4\n",
            "24\n"
          ],
          "name": "stdout"
        }
      ]
    },
    {
      "cell_type": "markdown",
      "metadata": {
        "id": "XPrOlgClvZqj"
      },
      "source": [
        "# URI Online Judge | 1080\n",
        "# Maior e Posição"
      ]
    },
    {
      "cell_type": "markdown",
      "metadata": {
        "id": "MqEGXk6cvdRs"
      },
      "source": [
        "Leia 100 valores inteiros. Apresente então o maior valor lido e a posição dentre os 100 valores lidos.\n",
        "\n",
        "Entrada\n",
        "O arquivo de entrada contém 100 números inteiros, positivos e distintos.\n",
        "\n",
        "Saída\n",
        "Apresente o maior valor lido e a posição de entrada, conforme exemplo abaixo."
      ]
    },
    {
      "cell_type": "code",
      "metadata": {
        "colab": {
          "base_uri": "https://localhost:8080/"
        },
        "id": "8aFWywXmviE3",
        "outputId": "e142282d-9c3d-4374-cc92-3251d8498d27"
      },
      "source": [
        "num_list = []\n",
        "higher_number = 0\n",
        "\n",
        "for pos in range(5):\n",
        "  number = int(input())\n",
        "  if number not in num_list and number >0:\n",
        "    num_list.append(number)\n",
        "    higher_number = max(num_list)\n",
        "    idx = num_list.index(higher_number)\n",
        "\n",
        "print(higher_number)\n",
        "print(idx)"
      ],
      "execution_count": 78,
      "outputs": [
        {
          "output_type": "stream",
          "text": [
            "1\n",
            "3258964712\n",
            "214\n",
            "698\n",
            "2\n",
            "3258964712\n",
            "1\n"
          ],
          "name": "stdout"
        }
      ]
    }
  ]
}